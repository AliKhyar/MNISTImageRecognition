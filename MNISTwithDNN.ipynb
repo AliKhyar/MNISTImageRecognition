{
  "nbformat": 4,
  "nbformat_minor": 0,
  "metadata": {
    "colab": {
      "name": "MNIST.ipynb",
      "provenance": [],
      "collapsed_sections": []
    },
    "kernelspec": {
      "name": "python3",
      "display_name": "Python 3"
    },
    "accelerator": "GPU"
  },
  "cells": [
    {
      "cell_type": "code",
      "metadata": {
        "id": "k_Wrz5KExSf1",
        "colab_type": "code",
        "colab": {}
      },
      "source": [
        "import numpy as np\n",
        "import matplotlib.pyplot as plt\n",
        "import keras\n",
        "from keras.datasets import mnist\n",
        "from keras.models import Sequential\n",
        "from keras.layers import Dense\n",
        "from keras.optimizers import Adam\n",
        "from keras.utils.np_utils import to_categorical\n",
        "import random"
      ],
      "execution_count": 0,
      "outputs": []
    },
    {
      "cell_type": "code",
      "metadata": {
        "id": "WVcK7JkH1Qe7",
        "colab_type": "code",
        "colab": {}
      },
      "source": [
        "np.random.seed(0)"
      ],
      "execution_count": 0,
      "outputs": []
    },
    {
      "cell_type": "code",
      "metadata": {
        "id": "sKgxkrxe1gzK",
        "colab_type": "code",
        "colab": {}
      },
      "source": [
        "(X_train, y_train), (X_test, y_test) = mnist.load_data()"
      ],
      "execution_count": 0,
      "outputs": []
    },
    {
      "cell_type": "code",
      "metadata": {
        "id": "8Y1dG-Oa1vP0",
        "colab_type": "code",
        "colab": {}
      },
      "source": [
        "print(X_train.shape)\n",
        "print(X_test.shape)\n",
        "print(y_train.shape)"
      ],
      "execution_count": 0,
      "outputs": []
    },
    {
      "cell_type": "code",
      "metadata": {
        "id": "el_M4IjY13d-",
        "colab_type": "code",
        "colab": {}
      },
      "source": [
        "assert(X_train.shape[0]==y_train.shape[0]),\"The number of images is not equal to the number of labels.\"\n",
        "assert(X_test.shape[0]==y_test.shape[0]),\"The number of images is not equal to the number of labels.\"\n",
        "assert(X_train.shape[1:]==(28,28)),\"dimesions are not 28*28\"\n"
      ],
      "execution_count": 0,
      "outputs": []
    },
    {
      "cell_type": "code",
      "metadata": {
        "id": "JB9hvoBK3Er_",
        "colab_type": "code",
        "colab": {}
      },
      "source": [
        "num_samples = []\n",
        "cols = 5\n",
        "num_classes = 10\n",
        "fig, axs = plt.subplots(nrows=num_classes, ncols=cols,figsize=(5,10)) \n",
        "fig.tight_layout()\n",
        "for i in range(cols):\n",
        "  for j in range(num_classes):\n",
        "    x_selected = X_train[y_train==j]\n",
        "    axs[j][i].imshow(x_selected[random.randint(0,len(x_selected)-1),: ],cmap= plt.get_cmap(\"gray\"))\n",
        "    axs[j][i].axis(\"off\")\n",
        "    if i == 2:\n",
        "      axs[j][i].set_title(str(j))\n",
        "      num_samples.append(len(x_selected))\n"
      ],
      "execution_count": 0,
      "outputs": []
    },
    {
      "cell_type": "code",
      "metadata": {
        "id": "Z03RAbzJ4jTl",
        "colab_type": "code",
        "colab": {}
      },
      "source": [
        "plt.figure(figsize=(12,4))\n",
        "plt.bar(range(0,num_classes),num_samples)\n",
        "plt.title(\"Distribution of the training dataset\")\n",
        "plt.ylabel(\"Number of images\")"
      ],
      "execution_count": 0,
      "outputs": []
    },
    {
      "cell_type": "code",
      "metadata": {
        "id": "gfbqtAKS8BIX",
        "colab_type": "code",
        "colab": {}
      },
      "source": [
        "y_train = to_categorical(y_train,10)\n",
        "y_test = to_categorical(y_test,10)\n",
        "X_train = X_train/255\n",
        "X_test = X_test/255"
      ],
      "execution_count": 0,
      "outputs": []
    },
    {
      "cell_type": "code",
      "metadata": {
        "id": "ZggAUKeCAW8q",
        "colab_type": "code",
        "colab": {}
      },
      "source": [
        "num_pixels = 784\n",
        "X_train = X_train.reshape(X_train.shape[0], num_pixels)\n",
        "X_test = X_test.reshape(X_test.shape[0], num_pixels)\n",
        "print(X_train.shape)\n",
        "print(X_test.shape)"
      ],
      "execution_count": 0,
      "outputs": []
    },
    {
      "cell_type": "code",
      "metadata": {
        "id": "wTT0d2W5EPFr",
        "colab_type": "code",
        "colab": {}
      },
      "source": [
        "def create_model():\n",
        "  model = Sequential()\n",
        "  model.add(Dense(10,input_dim=num_pixels,activation='relu'))\n",
        "  model.add(Dense(10,activation='relu'))\n",
        "  model.add(Dense(num_classes,activation='softmax'))\n",
        "  model.compile(Adam(lr=0.01),loss='categorical_crossentropy',metrics=['accuracy'])\n",
        "  return model"
      ],
      "execution_count": 0,
      "outputs": []
    },
    {
      "cell_type": "code",
      "metadata": {
        "id": "FUUh-qGbFGGP",
        "colab_type": "code",
        "colab": {}
      },
      "source": [
        ""
      ],
      "execution_count": 0,
      "outputs": []
    },
    {
      "cell_type": "code",
      "metadata": {
        "id": "IiMV0AsYHbXE",
        "colab_type": "code",
        "colab": {}
      },
      "source": [
        ""
      ],
      "execution_count": 0,
      "outputs": []
    },
    {
      "cell_type": "code",
      "metadata": {
        "id": "A0h9TheNFG-E",
        "colab_type": "code",
        "colab": {}
      },
      "source": [
        "model = create_model()\n",
        "model.summary()"
      ],
      "execution_count": 0,
      "outputs": []
    },
    {
      "cell_type": "code",
      "metadata": {
        "id": "BH6MX9J2FQ5C",
        "colab_type": "code",
        "colab": {}
      },
      "source": [
        "h = model.fit(X_train,y_train, validation_split=0.1, epochs = 10, batch_size=200, verbose=1, shuffle = 1)"
      ],
      "execution_count": 0,
      "outputs": []
    },
    {
      "cell_type": "code",
      "metadata": {
        "id": "1tz5x8VxGPVd",
        "colab_type": "code",
        "colab": {}
      },
      "source": [
        "plt.plot(h.history['loss'])\n",
        "plt.plot(h.history['val_loss'])\n",
        "plt.legend(['loss','val_loss'])\n",
        "plt.title('loss')\n",
        "plt.xlabel('epochs')"
      ],
      "execution_count": 0,
      "outputs": []
    },
    {
      "cell_type": "code",
      "metadata": {
        "id": "rvAJZMizHEP2",
        "colab_type": "code",
        "colab": {}
      },
      "source": [
        "plt.plot(h.history['acc'])\n",
        "plt.plot(h.history['val_acc'])\n",
        "plt.legend(['accuracy','val_accuracy'])\n",
        "plt.title('accuracy')\n",
        "plt.xlabel('epochs')"
      ],
      "execution_count": 0,
      "outputs": []
    },
    {
      "cell_type": "code",
      "metadata": {
        "id": "foqCHWXKHh6a",
        "colab_type": "code",
        "colab": {}
      },
      "source": [
        "score = model.evaluate(X_test,y_test,verbose=0)\n",
        "print(type(score))\n",
        "print('test score :', score[0])\n",
        "print('test accuracy :', score[1])"
      ],
      "execution_count": 0,
      "outputs": []
    },
    {
      "cell_type": "code",
      "metadata": {
        "id": "B9VuEhswIaHN",
        "colab_type": "code",
        "colab": {}
      },
      "source": [
        "import requests\n",
        "url = 'http://blog.otoro.net/assets/20160602/jpeg/smallnet/9.jpeg'\n",
        "response = requests.get(url,stream=True)"
      ],
      "execution_count": 0,
      "outputs": []
    },
    {
      "cell_type": "code",
      "metadata": {
        "id": "AIaDuSsbJFoS",
        "colab_type": "code",
        "colab": {}
      },
      "source": [
        "#print(response)"
      ],
      "execution_count": 0,
      "outputs": []
    },
    {
      "cell_type": "code",
      "metadata": {
        "id": "DXhFJeGzJI76",
        "colab_type": "code",
        "colab": {}
      },
      "source": [
        "from PIL import Image\n",
        "img = Image.open(response.raw)\n",
        "plt.imshow(img)"
      ],
      "execution_count": 0,
      "outputs": []
    },
    {
      "cell_type": "code",
      "metadata": {
        "id": "_mPb2PJhJdjS",
        "colab_type": "code",
        "colab": {}
      },
      "source": [
        "import cv2\n",
        "img_array = np.asarray(img)\n",
        "resized = cv2.resize(img_array,(28,28))\n",
        "#gray_scale = cv2.cvtColor(resized,cv2.COLOR_BGR2GRAY)\n",
        "#print(resized.shape)\n",
        "image = cv2.bitwise_not(resized)\n",
        "plt.imshow(image, cmap=plt.get_cmap(\"gray\"))\n"
      ],
      "execution_count": 0,
      "outputs": []
    },
    {
      "cell_type": "code",
      "metadata": {
        "id": "dVYHRT37Jng9",
        "colab_type": "code",
        "colab": {}
      },
      "source": [
        "image = image /255\n",
        "image = image.reshape(1,784)\n",
        "print(image)"
      ],
      "execution_count": 0,
      "outputs": []
    },
    {
      "cell_type": "code",
      "metadata": {
        "id": "ACJc8UjqLl8I",
        "colab_type": "code",
        "colab": {}
      },
      "source": [
        "prediction = model.predict_classes(image)\n",
        "print(\"predicted : \",str(prediction))"
      ],
      "execution_count": 0,
      "outputs": []
    },
    {
      "cell_type": "code",
      "metadata": {
        "id": "OuMestpeL5Gj",
        "colab_type": "code",
        "colab": {}
      },
      "source": [
        "# yoooooooooooooooooopiiiii"
      ],
      "execution_count": 0,
      "outputs": []
    }
  ]
}
